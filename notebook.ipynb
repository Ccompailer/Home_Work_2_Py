{
 "cells": [
  {
   "metadata": {},
   "cell_type": "markdown",
   "source": "# Задание № 1",
   "id": "8a77807f92f26ee"
  },
  {
   "metadata": {
    "ExecuteTime": {
     "end_time": "2025-10-25T11:09:31.069980Z",
     "start_time": "2025-10-25T11:09:31.067703Z"
    }
   },
   "cell_type": "code",
   "source": [
    "from datetime import datetime\n",
    "\n",
    "newspapers = {\n",
    "    \"The Moscow Times\": {\n",
    "        \"date\" : \"Wednesday, October 2, 2002\",\n",
    "        \"format\": \"%A, %B %d, %Y\"\n",
    "    },\n",
    "    \"The Guardian\": {\n",
    "        \"date\": \"Friday, 11.10.13\",\n",
    "        \"format\": \"%A, %d.%m.%y\"\n",
    "    },\n",
    "    \"Daily News\": {\n",
    "        \"date\": \"Thursday, 18 August 1977\",\n",
    "        \"format\": \"%A, %d %B %Y\"\n",
    "    }\n",
    "}\n",
    "\n",
    "for key, data in newspapers.items():\n",
    "    dt_object = datetime.strptime(data[\"date\"], data[\"format\"])\n",
    "\n",
    "    print(dt_object)\n"
   ],
   "id": "fbc121e30a2defb3",
   "outputs": [
    {
     "name": "stdout",
     "output_type": "stream",
     "text": [
      "2002-10-02 00:00:00\n",
      "2013-10-11 00:00:00\n",
      "1977-08-18 00:00:00\n"
     ]
    }
   ],
   "execution_count": 18
  },
  {
   "metadata": {},
   "cell_type": "markdown",
   "source": "# Задание № 2",
   "id": "27bf5df66f4d9884"
  },
  {
   "metadata": {
    "ExecuteTime": {
     "end_time": "2025-10-25T11:19:36.869598Z",
     "start_time": "2025-10-25T11:19:36.866928Z"
    }
   },
   "cell_type": "code",
   "source": [
    "from datetime import datetime, timedelta\n",
    "\n",
    "def date_range(start_date_str: str, end_date_str: str) -> list[str]:\n",
    "\n",
    "    DATE_FORMAT = \"%Y-%m-%d\"\n",
    "\n",
    "    try:\n",
    "        start_date = datetime.strptime(start_date_str, DATE_FORMAT).date()\n",
    "        end_date = datetime.strptime(end_date_str, DATE_FORMAT).date()\n",
    "    except ValueError:\n",
    "        return []\n",
    "\n",
    "    if start_date > end_date:\n",
    "        return []\n",
    "\n",
    "    date_list = []\n",
    "    current_date = start_date\n",
    "    one_day = timedelta(days=1)\n",
    "\n",
    "    while current_date <= end_date:\n",
    "        date_list.append(current_date.strftime(DATE_FORMAT))\n",
    "        current_date += one_day\n",
    "\n",
    "    return date_list\n",
    "\n",
    "print(date_range('2022-02-30', '2022-02-31'))"
   ],
   "id": "ffe45f390db929ef",
   "outputs": [
    {
     "name": "stdout",
     "output_type": "stream",
     "text": [
      "[]\n"
     ]
    }
   ],
   "execution_count": 23
  }
 ],
 "metadata": {
  "kernelspec": {
   "display_name": "Python 3",
   "language": "python",
   "name": "python3"
  },
  "language_info": {
   "codemirror_mode": {
    "name": "ipython",
    "version": 2
   },
   "file_extension": ".py",
   "mimetype": "text/x-python",
   "name": "python",
   "nbconvert_exporter": "python",
   "pygments_lexer": "ipython2",
   "version": "2.7.6"
  }
 },
 "nbformat": 4,
 "nbformat_minor": 5
}
